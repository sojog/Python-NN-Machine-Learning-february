{
 "cells": [
  {
   "cell_type": "code",
   "execution_count": 1,
   "metadata": {},
   "outputs": [],
   "source": [
    "import os"
   ]
  },
  {
   "cell_type": "code",
   "execution_count": 2,
   "metadata": {},
   "outputs": [
    {
     "data": {
      "text/plain": [
       "'/Users/silviu/Desktop/NN/Ziua3/fisier2.xml'"
      ]
     },
     "execution_count": 2,
     "metadata": {},
     "output_type": "execute_result"
    }
   ],
   "source": [
    "cwd = os.getcwd()\n",
    "\n",
    "file_path = os.path.join(cwd, \"fisier2.xml\")\n",
    "file_path"
   ]
  },
  {
   "cell_type": "code",
   "execution_count": 3,
   "metadata": {},
   "outputs": [],
   "source": [
    "LINK = \"file:///\" + file_path"
   ]
  },
  {
   "cell_type": "code",
   "execution_count": 4,
   "metadata": {},
   "outputs": [],
   "source": [
    "from selenium import webdriver\n",
    "from selenium.webdriver.common.by import By"
   ]
  },
  {
   "cell_type": "code",
   "execution_count": 5,
   "metadata": {},
   "outputs": [],
   "source": [
    "browser = webdriver.Chrome()\n",
    "browser.get(LINK)"
   ]
  },
  {
   "cell_type": "code",
   "execution_count": 6,
   "metadata": {},
   "outputs": [
    {
     "name": "stdout",
     "output_type": "stream",
     "text": [
      "4 [<selenium.webdriver.remote.webelement.WebElement (session=\"8d692c046f9d027685d3422d64afcca0\", element=\"f.150B58D56B03215222D7E4747DF8E43B.d.7360344F088D3E18DFEC378D0E3652C1.e.8\")>, <selenium.webdriver.remote.webelement.WebElement (session=\"8d692c046f9d027685d3422d64afcca0\", element=\"f.150B58D56B03215222D7E4747DF8E43B.d.7360344F088D3E18DFEC378D0E3652C1.e.9\")>, <selenium.webdriver.remote.webelement.WebElement (session=\"8d692c046f9d027685d3422d64afcca0\", element=\"f.150B58D56B03215222D7E4747DF8E43B.d.7360344F088D3E18DFEC378D0E3652C1.e.10\")>, <selenium.webdriver.remote.webelement.WebElement (session=\"8d692c046f9d027685d3422d64afcca0\", element=\"f.150B58D56B03215222D7E4747DF8E43B.d.7360344F088D3E18DFEC378D0E3652C1.e.11\")>]\n"
     ]
    }
   ],
   "source": [
    "deployment_list =  browser.find_elements(By.TAG_NAME, \"deployment\")\n",
    "print(len(deployment_list), deployment_list)"
   ]
  },
  {
   "cell_type": "code",
   "execution_count": 15,
   "metadata": {},
   "outputs": [
    {
     "data": {
      "text/plain": [
       "<selenium.webdriver.remote.webelement.WebElement (session=\"8d692c046f9d027685d3422d64afcca0\", element=\"f.150B58D56B03215222D7E4747DF8E43B.d.7360344F088D3E18DFEC378D0E3652C1.e.11\")>"
      ]
     },
     "execution_count": 15,
     "metadata": {},
     "output_type": "execute_result"
    }
   ],
   "source": [
    "elementul_cautat = browser.find_element(By.XPATH, \"//deployment/deployment[3]\")\n",
    "elementul_cautat"
   ]
  },
  {
   "cell_type": "code",
   "execution_count": 16,
   "metadata": {},
   "outputs": [
    {
     "data": {
      "text/plain": [
       "'login-server-0.1.16-UAT-adasfdsfsfs-SNAPSHOT.war'"
      ]
     },
     "execution_count": 16,
     "metadata": {},
     "output_type": "execute_result"
    }
   ],
   "source": [
    "elementul_cautat.get_attribute(\"name\")"
   ]
  }
 ],
 "metadata": {
  "kernelspec": {
   "display_name": "Python 3",
   "language": "python",
   "name": "python3"
  },
  "language_info": {
   "codemirror_mode": {
    "name": "ipython",
    "version": 3
   },
   "file_extension": ".py",
   "mimetype": "text/x-python",
   "name": "python",
   "nbconvert_exporter": "python",
   "pygments_lexer": "ipython3",
   "version": "3.12.0"
  }
 },
 "nbformat": 4,
 "nbformat_minor": 2
}
