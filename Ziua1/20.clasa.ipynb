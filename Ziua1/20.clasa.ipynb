{
 "cells": [
  {
   "cell_type": "code",
   "execution_count": 1,
   "metadata": {},
   "outputs": [],
   "source": [
    "# nume, prenume -> proprietati (ARE)\n",
    "# nume = \"TIRIAC\"\n",
    "# prenume = \"ION\"\n",
    "\n",
    "#  scrie, invata -> functii/metode (FACE)"
   ]
  },
  {
   "cell_type": "code",
   "execution_count": 1,
   "metadata": {},
   "outputs": [],
   "source": [
    "class Student:\n",
    "    def __init__(self, nume, prenume):\n",
    "        self.nume = nume\n",
    "        self.prenume = prenume\n",
    "\n",
    "    def scrie(self):\n",
    "        print(\"Studentul\",self.nume ,\"scriere..\")\n",
    "\n",
    "    def invata(self):\n",
    "        print(\"Studentul invata..\")"
   ]
  },
  {
   "cell_type": "code",
   "execution_count": 2,
   "metadata": {},
   "outputs": [
    {
     "name": "stdout",
     "output_type": "stream",
     "text": [
      "<__main__.Student object at 0x109dff710>\n",
      "Studentul Tiriac scriere..\n",
      "Studentul Halep scriere..\n"
     ]
    }
   ],
   "source": [
    "student1 = Student(\"Tiriac\", \"Ion\")\n",
    "print(student1)\n",
    "student1.scrie()\n",
    "# print(student1.nume)\n",
    "# student1.nume = \"Andrei\"\n",
    "# print(student1.nume)\n",
    "\n",
    "student2 = Student(\"Halep\", \"Simona\")\n",
    "student2.scrie()"
   ]
  }
 ],
 "metadata": {
  "kernelspec": {
   "display_name": "Python 3",
   "language": "python",
   "name": "python3"
  },
  "language_info": {
   "codemirror_mode": {
    "name": "ipython",
    "version": 3
   },
   "file_extension": ".py",
   "mimetype": "text/x-python",
   "name": "python",
   "nbconvert_exporter": "python",
   "pygments_lexer": "ipython3",
   "version": "3.12.0"
  }
 },
 "nbformat": 4,
 "nbformat_minor": 2
}
