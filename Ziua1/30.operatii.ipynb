{
 "cells": [
  {
   "cell_type": "code",
   "execution_count": 1,
   "metadata": {},
   "outputs": [
    {
     "name": "stdout",
     "output_type": "stream",
     "text": [
      "1+2\n",
      "7*8\n",
      "122/11\n",
      "3**2\n"
     ]
    }
   ],
   "source": [
    "with open(\"operatii.txt\") as freader:\n",
    "    print(freader.read())"
   ]
  },
  {
   "cell_type": "code",
   "execution_count": 3,
   "metadata": {},
   "outputs": [
    {
     "name": "stdout",
     "output_type": "stream",
     "text": [
      "['1+2', '7*8', '122/11', '3**2']\n"
     ]
    }
   ],
   "source": [
    "with open(\"operatii.txt\") as freader:\n",
    "    text = freader.read()\n",
    "    print(text.split())"
   ]
  },
  {
   "cell_type": "code",
   "execution_count": 4,
   "metadata": {},
   "outputs": [
    {
     "name": "stdout",
     "output_type": "stream",
     "text": [
      "['1+2\\n', '7*8\\n', '122/11\\n', '3**2']\n"
     ]
    }
   ],
   "source": [
    "with open(\"operatii.txt\") as freader:\n",
    "    text = freader.readlines()\n",
    "    print(text)"
   ]
  },
  {
   "cell_type": "code",
   "execution_count": 7,
   "metadata": {},
   "outputs": [
    {
     "name": "stdout",
     "output_type": "stream",
     "text": [
      "['1+2', '7*8', '122/11', '3**2']\n"
     ]
    }
   ],
   "source": [
    "with open(\"operatii.txt\") as freader:\n",
    "    text = freader.read()\n",
    "    print(text.splitlines())"
   ]
  },
  {
   "cell_type": "code",
   "execution_count": 15,
   "metadata": {},
   "outputs": [],
   "source": [
    "with open(\"operatii.txt\") as freader:\n",
    "    text = freader.read()\n",
    "    operatii = text.splitlines()"
   ]
  },
  {
   "cell_type": "code",
   "execution_count": 33,
   "metadata": {},
   "outputs": [],
   "source": [
    "with open(\"operatii_rezultat.txt\", \"w\") as fwriter:\n",
    "    for op in operatii:\n",
    "        fwriter.write(f\"{op} = {eval(op)} \\n\")\n",
    "    "
   ]
  },
  {
   "cell_type": "code",
   "execution_count": 16,
   "metadata": {},
   "outputs": [
    {
     "name": "stdout",
     "output_type": "stream",
     "text": [
      "1+2 = 3\n",
      "7*8 = 56\n",
      "122/11 = 11.090909090909092\n",
      "3**2 = 9\n"
     ]
    }
   ],
   "source": [
    "for op in operatii:\n",
    "    print(op, \"=\", eval(op))"
   ]
  }
 ],
 "metadata": {
  "kernelspec": {
   "display_name": "Python 3",
   "language": "python",
   "name": "python3"
  },
  "language_info": {
   "codemirror_mode": {
    "name": "ipython",
    "version": 3
   },
   "file_extension": ".py",
   "mimetype": "text/x-python",
   "name": "python",
   "nbconvert_exporter": "python",
   "pygments_lexer": "ipython3",
   "version": "3.12.0"
  }
 },
 "nbformat": 4,
 "nbformat_minor": 2
}
