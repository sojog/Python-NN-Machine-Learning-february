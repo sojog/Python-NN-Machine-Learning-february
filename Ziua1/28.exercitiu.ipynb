{
 "cells": [
  {
   "cell_type": "code",
   "execution_count": 1,
   "metadata": {},
   "outputs": [
    {
     "name": "stdout",
     "output_type": "stream",
     "text": [
      "['11', '22', '33', '44', '22', '33']\n",
      "['11', '44']\n"
     ]
    }
   ],
   "source": [
    "string = \"11,22,33,44,22,33\"\n",
    "\n",
    "numbers = string.split(\",\")\n",
    "print(numbers)\n",
    "\n",
    "unice = []\n",
    "for i in numbers:\n",
    "    if numbers.count(i) == 1:\n",
    "        unice.append(i)\n",
    "print(unice)"
   ]
  },
  {
   "cell_type": "code",
   "execution_count": 2,
   "metadata": {},
   "outputs": [
    {
     "name": "stdout",
     "output_type": "stream",
     "text": [
      "['11', '22', '33', '44', '22', '33']\n",
      "['11', '44']\n"
     ]
    }
   ],
   "source": [
    "string = \"11,22,33,44,22,33\"\n",
    "\n",
    "numbers = string.split(\",\")\n",
    "print(numbers)\n",
    "\n",
    "unice = [ i for i in numbers if numbers.count(i) == 1 ]\n",
    "print(unice)"
   ]
  },
  {
   "cell_type": "code",
   "execution_count": 3,
   "metadata": {},
   "outputs": [
    {
     "name": "stdout",
     "output_type": "stream",
     "text": [
      "['11', '22', '33', '44', '22', '33']\n",
      "[11, 44]\n"
     ]
    }
   ],
   "source": [
    "string = \"11,22,33,44,22,33\"\n",
    "\n",
    "numbers = string.split(\",\")\n",
    "print(numbers)\n",
    "\n",
    "unice = [ int(i) for i in numbers if numbers.count(i) == 1 ]\n",
    "print(unice)"
   ]
  },
  {
   "cell_type": "code",
   "execution_count": 5,
   "metadata": {},
   "outputs": [
    {
     "name": "stdout",
     "output_type": "stream",
     "text": [
      "['11', '22', '33', '44', '22', '33']\n",
      "[11, 44]\n",
      "55\n"
     ]
    }
   ],
   "source": [
    "string = \"11,22,33,44,22,33\"\n",
    "\n",
    "numbers = string.split(\",\")\n",
    "print(numbers)\n",
    "\n",
    "unice = [ int(i) for i in numbers if numbers.count(i) == 1 ]\n",
    "print(unice)\n",
    "print(sum(unice))"
   ]
  },
  {
   "cell_type": "code",
   "execution_count": 6,
   "metadata": {},
   "outputs": [
    {
     "name": "stdout",
     "output_type": "stream",
     "text": [
      "55\n"
     ]
    }
   ],
   "source": [
    "string = \"11,22,33,44,22,33\"\n",
    "numbers = string.split(\",\")\n",
    "print(sum([ int(i) for i in numbers if numbers.count(i) == 1 ]))"
   ]
  }
 ],
 "metadata": {
  "kernelspec": {
   "display_name": "Python 3",
   "language": "python",
   "name": "python3"
  },
  "language_info": {
   "codemirror_mode": {
    "name": "ipython",
    "version": 3
   },
   "file_extension": ".py",
   "mimetype": "text/x-python",
   "name": "python",
   "nbconvert_exporter": "python",
   "pygments_lexer": "ipython3",
   "version": "3.12.0"
  }
 },
 "nbformat": 4,
 "nbformat_minor": 2
}
