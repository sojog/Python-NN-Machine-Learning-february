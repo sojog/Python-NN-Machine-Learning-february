{
 "cells": [
  {
   "cell_type": "code",
   "execution_count": 1,
   "metadata": {},
   "outputs": [
    {
     "name": "stdout",
     "output_type": "stream",
     "text": [
      "['Andrei', 'George', 'George', 'Andrei']\n"
     ]
    }
   ],
   "source": [
    "some_names = [\"Andrei\", \"George\"]\n",
    "more_names = [\"George\", \"Andrei\"]\n",
    "print(some_names + more_names)"
   ]
  },
  {
   "cell_type": "code",
   "execution_count": 2,
   "metadata": {},
   "outputs": [
    {
     "name": "stdout",
     "output_type": "stream",
     "text": [
      "['Andrei', 'George', 'Andrei', 'George', 'Andrei', 'George']\n"
     ]
    }
   ],
   "source": [
    "some_names = [\"Andrei\", \"George\"] \n",
    "some_names *= 3\n",
    "print(some_names)"
   ]
  },
  {
   "cell_type": "code",
   "execution_count": 6,
   "metadata": {},
   "outputs": [
    {
     "name": "stdout",
     "output_type": "stream",
     "text": [
      "['Andrei', 'George', 'Ionut']\n"
     ]
    }
   ],
   "source": [
    "some_names = [\"Andrei\", \"George\"]  \n",
    "some_names +=  [\"Ionut\"]\n",
    "print(some_names)"
   ]
  },
  {
   "cell_type": "code",
   "execution_count": 7,
   "metadata": {},
   "outputs": [
    {
     "name": "stdout",
     "output_type": "stream",
     "text": [
      "['Andrei', 'George', 'I', 'o', 'n', 'u', 't']\n"
     ]
    }
   ],
   "source": [
    "some_names = [\"Andrei\", \"George\"]  \n",
    "some_names +=  \"Ionut\"\n",
    "print(some_names)"
   ]
  },
  {
   "cell_type": "code",
   "execution_count": 8,
   "metadata": {},
   "outputs": [
    {
     "data": {
      "text/plain": [
       "['I', 'o', 'n', 'u', 't']"
      ]
     },
     "execution_count": 8,
     "metadata": {},
     "output_type": "execute_result"
    }
   ],
   "source": [
    "list(\"Ionut\")"
   ]
  },
  {
   "cell_type": "code",
   "execution_count": 9,
   "metadata": {},
   "outputs": [
    {
     "name": "stdout",
     "output_type": "stream",
     "text": [
      "{'cars': 3, 'houses': 6}\n"
     ]
    }
   ],
   "source": [
    "johannis = {'cars':2 , 'houses':6}\n",
    "johannis['cars'] = 3\n",
    "print(johannis)"
   ]
  },
  {
   "cell_type": "code",
   "execution_count": 12,
   "metadata": {},
   "outputs": [
    {
     "name": "stdout",
     "output_type": "stream",
     "text": [
      "{'cars': 2, 'houses': 6, '3': 'cars'}\n"
     ]
    }
   ],
   "source": [
    "johannis = {'cars':2 , 'houses':6}\n",
    "#asignare\n",
    "johannis[3] = 'cars'\n",
    "print(johannis)"
   ]
  },
  {
   "cell_type": "code",
   "execution_count": 11,
   "metadata": {},
   "outputs": [
    {
     "data": {
      "text/plain": [
       "'cars'"
      ]
     },
     "execution_count": 13,
     "metadata": {},
     "output_type": "execute_result"
    }
   ],
   "source": [
    "johannis[3]"
   ]
  },
  {
   "cell_type": "code",
   "execution_count": 17,
   "metadata": {},
   "outputs": [
    {
     "data": {
      "text/plain": [
       "6"
      ]
     },
     "execution_count": 17,
     "metadata": {},
     "output_type": "execute_result"
    }
   ],
   "source": [
    "johannis = {'cars':2 , 'houses':6}\n",
    "#citire\n",
    "johannis[\"houses\"]"
   ]
  },
  {
   "cell_type": "code",
   "execution_count": 18,
   "metadata": {},
   "outputs": [
    {
     "ename": "TypeError",
     "evalue": "unhashable type: 'list'",
     "output_type": "error",
     "traceback": [
      "\u001b[0;31m---------------------------------------------------------------------------\u001b[0m",
      "\u001b[0;31mTypeError\u001b[0m                                 Traceback (most recent call last)",
      "Cell \u001b[0;32mIn[18], line 1\u001b[0m\n\u001b[0;32m----> 1\u001b[0m johannis \u001b[38;5;241m=\u001b[39m { []:\u001b[38;5;241m2\u001b[39m , \u001b[38;5;124m'\u001b[39m\u001b[38;5;124mhouses\u001b[39m\u001b[38;5;124m'\u001b[39m:\u001b[38;5;241m6\u001b[39m}\n",
      "\u001b[0;31mTypeError\u001b[0m: unhashable type: 'list'"
     ]
    }
   ],
   "source": [
    "johannis = { []:2 , 'houses':6}"
   ]
  }
 ],
 "metadata": {
  "kernelspec": {
   "display_name": "Python 3",
   "language": "python",
   "name": "python3"
  },
  "language_info": {
   "codemirror_mode": {
    "name": "ipython",
    "version": 3
   },
   "file_extension": ".py",
   "mimetype": "text/x-python",
   "name": "python",
   "nbconvert_exporter": "python",
   "pygments_lexer": "ipython3",
   "version": "3.12.0"
  }
 },
 "nbformat": 4,
 "nbformat_minor": 2
}
