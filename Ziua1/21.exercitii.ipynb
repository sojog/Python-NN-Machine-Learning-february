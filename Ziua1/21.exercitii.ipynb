{
 "cells": [
  {
   "cell_type": "code",
   "execution_count": 1,
   "metadata": {},
   "outputs": [
    {
     "name": "stdout",
     "output_type": "stream",
     "text": [
      "['Andrei', 'George', 'George', 'Andrei']\n"
     ]
    }
   ],
   "source": [
    "some_names = [\"Andrei\", \"George\"]\n",
    "more_names = [\"George\", \"Andrei\"]\n",
    "print(some_names + more_names)"
   ]
  },
  {
   "cell_type": "code",
   "execution_count": 2,
   "metadata": {},
   "outputs": [
    {
     "name": "stdout",
     "output_type": "stream",
     "text": [
      "['Andrei', 'George', 'Andrei', 'George', 'Andrei', 'George']\n"
     ]
    }
   ],
   "source": [
    "some_names = [\"Andrei\", \"George\"] \n",
    "some_names *= 3\n",
    "print(some_names)"
   ]
  },
  {
   "cell_type": "code",
   "execution_count": 6,
   "metadata": {},
   "outputs": [
    {
     "name": "stdout",
     "output_type": "stream",
     "text": [
      "['Andrei', 'George', 'Ionut']\n"
     ]
    }
   ],
   "source": [
    "some_names = [\"Andrei\", \"George\"]  \n",
    "some_names +=  [\"Ionut\"]\n",
    "print(some_names)"
   ]
  },
  {
   "cell_type": "code",
   "execution_count": 7,
   "metadata": {},
   "outputs": [
    {
     "name": "stdout",
     "output_type": "stream",
     "text": [
      "['Andrei', 'George', 'I', 'o', 'n', 'u', 't']\n"
     ]
    }
   ],
   "source": [
    "some_names = [\"Andrei\", \"George\"]  \n",
    "some_names +=  \"Ionut\"\n",
    "print(some_names)"
   ]
  },
  {
   "cell_type": "code",
   "execution_count": 8,
   "metadata": {},
   "outputs": [
    {
     "data": {
      "text/plain": [
       "['I', 'o', 'n', 'u', 't']"
      ]
     },
     "execution_count": 8,
     "metadata": {},
     "output_type": "execute_result"
    }
   ],
   "source": [
    "list(\"Ionut\")"
   ]
  },
  {
   "cell_type": "code",
   "execution_count": 9,
   "metadata": {},
   "outputs": [
    {
     "name": "stdout",
     "output_type": "stream",
     "text": [
      "{'cars': 3, 'houses': 6}\n"
     ]
    }
   ],
   "source": [
    "johannis = {'cars':2 , 'houses':6}\n",
    "johannis['cars'] = 3\n",
    "print(johannis)"
   ]
  },
  {
   "cell_type": "code",
   "execution_count": 12,
   "metadata": {},
   "outputs": [
    {
     "name": "stdout",
     "output_type": "stream",
     "text": [
      "{'cars': 2, 'houses': 6, '3': 'cars'}\n"
     ]
    }
   ],
   "source": [
    "johannis = {'cars':2 , 'houses':6}\n",
    "#asignare\n",
    "johannis[3] = 'cars'\n",
    "print(johannis)"
   ]
  },
  {
   "cell_type": "code",
   "execution_count": 11,
   "metadata": {},
   "outputs": [
    {
     "data": {
      "text/plain": [
       "'cars'"
      ]
     },
     "execution_count": 13,
     "metadata": {},
     "output_type": "execute_result"
    }
   ],
   "source": [
    "johannis[3]"
   ]
  },
  {
   "cell_type": "code",
   "execution_count": 17,
   "metadata": {},
   "outputs": [
    {
     "data": {
      "text/plain": [
       "6"
      ]
     },
     "execution_count": 17,
     "metadata": {},
     "output_type": "execute_result"
    }
   ],
   "source": [
    "johannis = {'cars':2 , 'houses':6}\n",
    "#citire\n",
    "johannis[\"houses\"]"
   ]
  },
  {
   "cell_type": "code",
   "execution_count": 18,
   "metadata": {},
   "outputs": [
    {
     "ename": "TypeError",
     "evalue": "unhashable type: 'list'",
     "output_type": "error",
     "traceback": [
      "\u001b[0;31m---------------------------------------------------------------------------\u001b[0m",
      "\u001b[0;31mTypeError\u001b[0m                                 Traceback (most recent call last)",
      "Cell \u001b[0;32mIn[18], line 1\u001b[0m\n\u001b[0;32m----> 1\u001b[0m johannis \u001b[38;5;241m=\u001b[39m { []:\u001b[38;5;241m2\u001b[39m , \u001b[38;5;124m'\u001b[39m\u001b[38;5;124mhouses\u001b[39m\u001b[38;5;124m'\u001b[39m:\u001b[38;5;241m6\u001b[39m}\n",
      "\u001b[0;31mTypeError\u001b[0m: unhashable type: 'list'"
     ]
    }
   ],
   "source": [
    "johannis = { []:2 , 'houses':6}"
   ]
  },
  {
   "cell_type": "code",
   "execution_count": 19,
   "metadata": {},
   "outputs": [
    {
     "name": "stdout",
     "output_type": "stream",
     "text": [
      "mihai bendeac este un actor\n"
     ]
    }
   ],
   "source": [
    "last_name , first_name = \"bendeac\", \"mihai\"\n",
    "print(f\"{first_name} {last_name} este un actor\")"
   ]
  },
  {
   "cell_type": "code",
   "execution_count": 20,
   "metadata": {},
   "outputs": [],
   "source": [
    "last_name , first_name = \"bendeac\", \"mihai\""
   ]
  },
  {
   "cell_type": "code",
   "execution_count": 21,
   "metadata": {},
   "outputs": [
    {
     "name": "stdout",
     "output_type": "stream",
     "text": [
      "last_name bendeac\n"
     ]
    }
   ],
   "source": [
    "last_name , first_name = \"bendeac\", \"mihai\"\n",
    "print(\"last_name\", last_name)"
   ]
  },
  {
   "cell_type": "code",
   "execution_count": 23,
   "metadata": {},
   "outputs": [
    {
     "name": "stdout",
     "output_type": "stream",
     "text": [
      "last_name bendeac\n",
      "first_name mihai\n"
     ]
    }
   ],
   "source": [
    "last_name , first_name = (\"bendeac\", \"mihai\")\n",
    "print(\"last_name\", last_name)\n",
    "print(\"first_name\", first_name)"
   ]
  },
  {
   "cell_type": "code",
   "execution_count": 24,
   "metadata": {},
   "outputs": [
    {
     "ename": "ValueError",
     "evalue": "not enough values to unpack (expected 3, got 2)",
     "output_type": "error",
     "traceback": [
      "\u001b[0;31m---------------------------------------------------------------------------\u001b[0m",
      "\u001b[0;31mValueError\u001b[0m                                Traceback (most recent call last)",
      "Cell \u001b[0;32mIn[24], line 1\u001b[0m\n\u001b[0;32m----> 1\u001b[0m last_name , middle_name, first_name \u001b[38;5;241m=\u001b[39m (\u001b[38;5;124m\"\u001b[39m\u001b[38;5;124mbendeac\u001b[39m\u001b[38;5;124m\"\u001b[39m, \u001b[38;5;124m\"\u001b[39m\u001b[38;5;124mmihai\u001b[39m\u001b[38;5;124m\"\u001b[39m)\n\u001b[1;32m      2\u001b[0m \u001b[38;5;28mprint\u001b[39m(\u001b[38;5;124m\"\u001b[39m\u001b[38;5;124mlast_name\u001b[39m\u001b[38;5;124m\"\u001b[39m, last_name)\n\u001b[1;32m      3\u001b[0m \u001b[38;5;28mprint\u001b[39m(\u001b[38;5;124m\"\u001b[39m\u001b[38;5;124mfirst_name\u001b[39m\u001b[38;5;124m\"\u001b[39m, first_name)\n",
      "\u001b[0;31mValueError\u001b[0m: not enough values to unpack (expected 3, got 2)"
     ]
    }
   ],
   "source": [
    "last_name , middle_name, first_name = (\"bendeac\", \"mihai\")\n",
    "print(\"last_name\", last_name)\n",
    "print(\"first_name\", first_name)"
   ]
  },
  {
   "cell_type": "code",
   "execution_count": 26,
   "metadata": {},
   "outputs": [
    {
     "name": "stdout",
     "output_type": "stream",
     "text": [
      "last_name bendeac\n",
      "first_name mihai\n"
     ]
    }
   ],
   "source": [
    "last_name , middle_name, first_name = (\"bendeac\", \"valentin\", \"mihai\")\n",
    "print(\"last_name\", last_name)\n",
    "print(\"first_name\", first_name)"
   ]
  },
  {
   "cell_type": "code",
   "execution_count": 27,
   "metadata": {},
   "outputs": [
    {
     "ename": "ValueError",
     "evalue": "too many values to unpack (expected 2)",
     "output_type": "error",
     "traceback": [
      "\u001b[0;31m---------------------------------------------------------------------------\u001b[0m",
      "\u001b[0;31mValueError\u001b[0m                                Traceback (most recent call last)",
      "Cell \u001b[0;32mIn[27], line 1\u001b[0m\n\u001b[0;32m----> 1\u001b[0m last_name ,  first_name \u001b[38;5;241m=\u001b[39m (\u001b[38;5;124m\"\u001b[39m\u001b[38;5;124mbendeac\u001b[39m\u001b[38;5;124m\"\u001b[39m, \u001b[38;5;124m\"\u001b[39m\u001b[38;5;124mvalentin\u001b[39m\u001b[38;5;124m\"\u001b[39m, \u001b[38;5;124m\"\u001b[39m\u001b[38;5;124mmihai\u001b[39m\u001b[38;5;124m\"\u001b[39m)\n\u001b[1;32m      2\u001b[0m \u001b[38;5;28mprint\u001b[39m(\u001b[38;5;124m\"\u001b[39m\u001b[38;5;124mlast_name\u001b[39m\u001b[38;5;124m\"\u001b[39m, last_name)\n\u001b[1;32m      3\u001b[0m \u001b[38;5;28mprint\u001b[39m(\u001b[38;5;124m\"\u001b[39m\u001b[38;5;124mfirst_name\u001b[39m\u001b[38;5;124m\"\u001b[39m, first_name)\n",
      "\u001b[0;31mValueError\u001b[0m: too many values to unpack (expected 2)"
     ]
    }
   ],
   "source": [
    "last_name ,  first_name = (\"bendeac\", \"valentin\", \"mihai\")\n",
    "print(\"last_name\", last_name)\n",
    "print(\"first_name\", first_name)"
   ]
  },
  {
   "cell_type": "code",
   "execution_count": 30,
   "metadata": {},
   "outputs": [
    {
     "name": "stdout",
     "output_type": "stream",
     "text": [
      "last_name bendeac\n",
      "first_name ['valentin', 'mihai']\n"
     ]
    }
   ],
   "source": [
    "last_name ,  *first_name = (\"bendeac\", \"valentin\", \"mihai\")\n",
    "print(\"last_name\", last_name)\n",
    "print(\"first_name\", first_name)"
   ]
  },
  {
   "cell_type": "code",
   "execution_count": 31,
   "metadata": {},
   "outputs": [
    {
     "name": "stdout",
     "output_type": "stream",
     "text": [
      "last_name bendeac\n",
      "first_name ['valentin', 'mihai', 'iumor']\n"
     ]
    }
   ],
   "source": [
    "last_name ,  *first_name = (\"bendeac\", \"valentin\", \"mihai\", \"iumor\")\n",
    "print(\"last_name\", last_name)\n",
    "print(\"first_name\", first_name)"
   ]
  },
  {
   "cell_type": "code",
   "execution_count": 33,
   "metadata": {},
   "outputs": [
    {
     "name": "stdout",
     "output_type": "stream",
     "text": [
      "last_name bendeac\n",
      "first_name ['valentin', 'mihai']\n",
      "emisiune iumor\n"
     ]
    }
   ],
   "source": [
    "last_name ,  *first_name, emisiune = (\"bendeac\", \"valentin\", \"mihai\", \"iumor\")\n",
    "print(\"last_name\", last_name)\n",
    "print(\"first_name\", first_name)\n",
    "print(\"emisiune\", emisiune)"
   ]
  },
  {
   "cell_type": "code",
   "execution_count": 34,
   "metadata": {},
   "outputs": [
    {
     "name": "stdout",
     "output_type": "stream",
     "text": [
      "1\n"
     ]
    }
   ],
   "source": [
    "letters = [\"b\", \"a\", \"y\", \"a\"]\n",
    "index = letters.index(\"a\")\n",
    "print(index)"
   ]
  },
  {
   "cell_type": "code",
   "execution_count": 35,
   "metadata": {},
   "outputs": [
    {
     "name": "stdout",
     "output_type": "stream",
     "text": [
      "<class 'tuple'>\n"
     ]
    }
   ],
   "source": [
    "a = 1,\n",
    "print(type(a))"
   ]
  },
  {
   "cell_type": "code",
   "execution_count": 36,
   "metadata": {},
   "outputs": [
    {
     "name": "stdout",
     "output_type": "stream",
     "text": [
      "<class 'tuple'>\n"
     ]
    }
   ],
   "source": [
    "a = (1,)\n",
    "print(type(a))"
   ]
  },
  {
   "cell_type": "code",
   "execution_count": 37,
   "metadata": {},
   "outputs": [
    {
     "name": "stdout",
     "output_type": "stream",
     "text": [
      "<class 'list'>\n"
     ]
    }
   ],
   "source": [
    "a = [1,]\n",
    "print(type(a))"
   ]
  },
  {
   "cell_type": "code",
   "execution_count": 38,
   "metadata": {},
   "outputs": [
    {
     "name": "stdout",
     "output_type": "stream",
     "text": [
      "<class 'tuple'>\n"
     ]
    }
   ],
   "source": [
    "a = ()\n",
    "print(type(a))"
   ]
  },
  {
   "cell_type": "code",
   "execution_count": 39,
   "metadata": {},
   "outputs": [
    {
     "name": "stdout",
     "output_type": "stream",
     "text": [
      "<class 'int'>\n"
     ]
    }
   ],
   "source": [
    "a = (1)\n",
    "print(type(a))"
   ]
  },
  {
   "cell_type": "code",
   "execution_count": 45,
   "metadata": {},
   "outputs": [
    {
     "name": "stdout",
     "output_type": "stream",
     "text": [
      "<class 'tuple'> (2,)\n"
     ]
    }
   ],
   "source": [
    "a = (((2,)))\n",
    "print(type(a), a)"
   ]
  },
  {
   "cell_type": "code",
   "execution_count": 48,
   "metadata": {},
   "outputs": [
    {
     "name": "stdout",
     "output_type": "stream",
     "text": [
      "apple\n"
     ]
    }
   ],
   "source": [
    "fruits = [\"apple\", \"pear\", \"cherry\"]\n",
    "print(fruits[-3])"
   ]
  },
  {
   "cell_type": "code",
   "execution_count": 49,
   "metadata": {},
   "outputs": [
    {
     "name": "stdout",
     "output_type": "stream",
     "text": [
      "(300, 400, 500)\n"
     ]
    }
   ],
   "source": [
    "aTuple = (200, 300, 400, 500, 600)\n",
    "print(aTuple[-4:-1])"
   ]
  },
  {
   "cell_type": "code",
   "execution_count": 52,
   "metadata": {},
   "outputs": [
    {
     "name": "stdout",
     "output_type": "stream",
     "text": [
      "(300, 400, 500)\n"
     ]
    }
   ],
   "source": [
    "aTuple = (200, 300, 400, 500, 600)\n",
    "print(aTuple[1:4])"
   ]
  },
  {
   "cell_type": "code",
   "execution_count": 54,
   "metadata": {},
   "outputs": [
    {
     "name": "stdout",
     "output_type": "stream",
     "text": [
      "(200, 300, 400, 500)\n"
     ]
    }
   ],
   "source": [
    "aTuple = (200, 300, 400, 500, 600)\n",
    "print(aTuple[:-1])"
   ]
  },
  {
   "cell_type": "code",
   "execution_count": 55,
   "metadata": {},
   "outputs": [
    {
     "name": "stdout",
     "output_type": "stream",
     "text": [
      "(300, 400, 500, 600)\n"
     ]
    }
   ],
   "source": [
    "aTuple = (200, 300, 400, 500, 600)\n",
    "print(aTuple[1:])"
   ]
  },
  {
   "cell_type": "code",
   "execution_count": 56,
   "metadata": {},
   "outputs": [
    {
     "name": "stdout",
     "output_type": "stream",
     "text": [
      "(200, 400, 600)\n"
     ]
    }
   ],
   "source": [
    "aTuple = (200, 300, 400, 500, 600)\n",
    "print(aTuple[::2])"
   ]
  },
  {
   "cell_type": "code",
   "execution_count": 57,
   "metadata": {},
   "outputs": [
    {
     "name": "stdout",
     "output_type": "stream",
     "text": [
      "(600, 500, 400, 300, 200)\n"
     ]
    }
   ],
   "source": [
    "aTuple = (200, 300, 400, 500, 600)\n",
    "print(aTuple[::-1])"
   ]
  },
  {
   "cell_type": "code",
   "execution_count": 58,
   "metadata": {},
   "outputs": [
    {
     "name": "stdout",
     "output_type": "stream",
     "text": [
      "auiz anub\n"
     ]
    }
   ],
   "source": [
    "string = \"buna ziua\"\n",
    "print(string[::-1])"
   ]
  },
  {
   "cell_type": "code",
   "execution_count": 59,
   "metadata": {},
   "outputs": [
    {
     "name": "stdout",
     "output_type": "stream",
     "text": [
      "['buna', 'ziua']\n"
     ]
    }
   ],
   "source": [
    "string = \"buna ziua\"\n",
    "print(string.split())"
   ]
  },
  {
   "cell_type": "code",
   "execution_count": 60,
   "metadata": {},
   "outputs": [
    {
     "name": "stdout",
     "output_type": "stream",
     "text": [
      "['ziua', 'buna']\n"
     ]
    }
   ],
   "source": [
    "string = \"buna ziua\"\n",
    "cuvinte = string.split()\n",
    "cuvinte = cuvinte[::-1]\n",
    "print(cuvinte)"
   ]
  },
  {
   "cell_type": "code",
   "execution_count": 64,
   "metadata": {},
   "outputs": [
    {
     "name": "stdout",
     "output_type": "stream",
     "text": [
      "ziua buna\n"
     ]
    }
   ],
   "source": [
    "string = \"buna ziua\"\n",
    "cuvinte = string.split()\n",
    "cuvinte = cuvinte[::-1]\n",
    "nou_string = \" \".join(cuvinte)\n",
    "print(nou_string)"
   ]
  }
 ],
 "metadata": {
  "kernelspec": {
   "display_name": "Python 3",
   "language": "python",
   "name": "python3"
  },
  "language_info": {
   "codemirror_mode": {
    "name": "ipython",
    "version": 3
   },
   "file_extension": ".py",
   "mimetype": "text/x-python",
   "name": "python",
   "nbconvert_exporter": "python",
   "pygments_lexer": "ipython3",
   "version": "3.12.0"
  }
 },
 "nbformat": 4,
 "nbformat_minor": 2
}
