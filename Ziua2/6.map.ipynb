{
 "cells": [
  {
   "cell_type": "code",
   "execution_count": 1,
   "metadata": {},
   "outputs": [
    {
     "name": "stdout",
     "output_type": "stream",
     "text": [
      "[95, 195, 295]\n"
     ]
    }
   ],
   "source": [
    "colectie = [100, 200, 300]\n",
    "\n",
    "def scade_5(x):\n",
    "    return x - 5\n",
    "\n",
    "print(list(map(scade_5, colectie)))"
   ]
  },
  {
   "cell_type": "code",
   "execution_count": 2,
   "metadata": {},
   "outputs": [
    {
     "name": "stdout",
     "output_type": "stream",
     "text": [
      "[100, 200, 300]\n"
     ]
    }
   ],
   "source": [
    "colectie = [\"100\", \"200\", \"300\"]\n",
    "print(list(map(int, colectie)))"
   ]
  },
  {
   "cell_type": "code",
   "execution_count": 4,
   "metadata": {},
   "outputs": [
    {
     "name": "stdout",
     "output_type": "stream",
     "text": [
      "[4, 9, 16]\n"
     ]
    }
   ],
   "source": [
    "def putere(x):\n",
    "    return x ** 2\n",
    "\n",
    "print(list(map(putere, [2, 3, 4])))"
   ]
  },
  {
   "cell_type": "code",
   "execution_count": 5,
   "metadata": {},
   "outputs": [
    {
     "name": "stdout",
     "output_type": "stream",
     "text": [
      "[4, 9, 16]\n"
     ]
    }
   ],
   "source": [
    "print(list(map(lambda x:x ** 2, [2, 3, 4])))"
   ]
  },
  {
   "cell_type": "code",
   "execution_count": 6,
   "metadata": {},
   "outputs": [
    {
     "data": {
      "text/plain": [
       "64"
      ]
     },
     "execution_count": 6,
     "metadata": {},
     "output_type": "execute_result"
    }
   ],
   "source": [
    "ridicare_la_putere = lambda x:x ** 2\n",
    "ridicare_la_putere(8)"
   ]
  }
 ],
 "metadata": {
  "kernelspec": {
   "display_name": "Python 3",
   "language": "python",
   "name": "python3"
  },
  "language_info": {
   "codemirror_mode": {
    "name": "ipython",
    "version": 3
   },
   "file_extension": ".py",
   "mimetype": "text/x-python",
   "name": "python",
   "nbconvert_exporter": "python",
   "pygments_lexer": "ipython3",
   "version": "3.12.0"
  }
 },
 "nbformat": 4,
 "nbformat_minor": 2
}
