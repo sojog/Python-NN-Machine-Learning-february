{
 "cells": [
  {
   "cell_type": "code",
   "execution_count": 1,
   "metadata": {},
   "outputs": [],
   "source": [
    "import pandas as pd"
   ]
  },
  {
   "cell_type": "code",
   "execution_count": 3,
   "metadata": {},
   "outputs": [
    {
     "data": {
      "text/plain": [
       "'2.2.3'"
      ]
     },
     "execution_count": 3,
     "metadata": {},
     "output_type": "execute_result"
    }
   ],
   "source": [
    "pd.__version__"
   ]
  },
  {
   "cell_type": "code",
   "execution_count": 5,
   "metadata": {},
   "outputs": [
    {
     "name": "stdout",
     "output_type": "stream",
     "text": [
      "<class 'pandas.core.series.Series'> 0      alb\n",
      "1    verde\n",
      "2    negru\n",
      "dtype: object\n"
     ]
    }
   ],
   "source": [
    "l = [\"alb\", \"verde\", \"negru\"]\n",
    "sr = pd.Series(l)\n",
    "print(type(sr), sr)"
   ]
  },
  {
   "cell_type": "code",
   "execution_count": 7,
   "metadata": {},
   "outputs": [
    {
     "name": "stdout",
     "output_type": "stream",
     "text": [
      "<class 'pandas.core.series.Series'>\n",
      "0    10\n",
      "1    20\n",
      "2    30\n",
      "dtype: int64\n"
     ]
    }
   ],
   "source": [
    "l = [10, 20, 30]\n",
    "sr = pd.Series(l)\n",
    "print(type(sr))\n",
    "print(sr)"
   ]
  },
  {
   "cell_type": "code",
   "execution_count": 8,
   "metadata": {},
   "outputs": [
    {
     "name": "stdout",
     "output_type": "stream",
     "text": [
      "RO    17\n",
      "FR    70\n",
      "DE    80\n",
      "dtype: int64\n"
     ]
    }
   ],
   "source": [
    "tari = [\"RO\", \"FR\", \"DE\"]\n",
    "populatie = [17, 70, 80]\n",
    "sr = pd.Series(data=populatie, index=tari)\n",
    "print(sr)"
   ]
  },
  {
   "cell_type": "code",
   "execution_count": 9,
   "metadata": {},
   "outputs": [
    {
     "name": "stdout",
     "output_type": "stream",
     "text": [
      "17    RO\n",
      "70    FR\n",
      "80    DE\n",
      "dtype: object\n"
     ]
    }
   ],
   "source": [
    "tari = [\"RO\", \"FR\", \"DE\"]\n",
    "populatie = [17, 70, 80]\n",
    "sr = pd.Series(data=tari, index=populatie)\n",
    "print(sr)"
   ]
  },
  {
   "cell_type": "code",
   "execution_count": 11,
   "metadata": {},
   "outputs": [
    {
     "data": {
      "text/plain": [
       "'RO'"
      ]
     },
     "execution_count": 11,
     "metadata": {},
     "output_type": "execute_result"
    }
   ],
   "source": [
    "tari = [\"RO\", \"FR\", \"DE\"]\n",
    "populatie = [17, 70, 80]\n",
    "sr = pd.Series(data=tari, index=populatie)\n",
    "sr[17]"
   ]
  },
  {
   "cell_type": "code",
   "execution_count": 13,
   "metadata": {},
   "outputs": [
    {
     "data": {
      "text/plain": [
       "RO    17\n",
       "FR    70\n",
       "DE    80\n",
       "dtype: int64"
      ]
     },
     "execution_count": 13,
     "metadata": {},
     "output_type": "execute_result"
    }
   ],
   "source": [
    "date = {\n",
    "    \"RO\" : 17, \"FR\":70, \"DE\" : 80\n",
    "}\n",
    "sr = pd.Series(date)\n",
    "sr"
   ]
  },
  {
   "cell_type": "code",
   "execution_count": 19,
   "metadata": {},
   "outputs": [
    {
     "data": {
      "text/plain": [
       "DE    80.0\n",
       "ES    40.0\n",
       "FR    70.0\n",
       "GR    10.0\n",
       "MD    10.0\n",
       "RO    17.0\n",
       "dtype: float64"
      ]
     },
     "execution_count": 19,
     "metadata": {},
     "output_type": "execute_result"
    }
   ],
   "source": [
    "date1 = {\n",
    "    \"RO\" : 17, \"FR\":70, \"DE\" : 80\n",
    "}\n",
    "sr1 = pd.Series(date1)\n",
    "\n",
    "\n",
    "date2 = {\n",
    "    \"ES\" : 40, \"MD\":10, \"GR\" : 10\n",
    "}\n",
    "sr2 = pd.Series(date2)\n",
    "\n",
    "sr1.add(sr2,fill_value=0)\n",
    "\n"
   ]
  },
  {
   "cell_type": "code",
   "execution_count": null,
   "metadata": {},
   "outputs": [],
   "source": []
  }
 ],
 "metadata": {
  "kernelspec": {
   "display_name": "Python 3",
   "language": "python",
   "name": "python3"
  },
  "language_info": {
   "codemirror_mode": {
    "name": "ipython",
    "version": 3
   },
   "file_extension": ".py",
   "mimetype": "text/x-python",
   "name": "python",
   "nbconvert_exporter": "python",
   "pygments_lexer": "ipython3",
   "version": "3.12.0"
  }
 },
 "nbformat": 4,
 "nbformat_minor": 2
}
