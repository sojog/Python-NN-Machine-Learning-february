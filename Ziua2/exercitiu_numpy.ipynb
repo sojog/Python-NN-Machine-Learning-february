{
  "cells": [
    {
      "cell_type": "code",
      "execution_count": 1,
      "metadata": {},
      "outputs": [],
      "source": [
        "import numpy as np"
      ]
    },
    {
      "cell_type": "code",
      "execution_count": 2,
      "metadata": {},
      "outputs": [
        {
          "data": {
            "text/plain": [
              "array([0., 0., 0., 0., 0., 0., 0., 0., 0., 0.])"
            ]
          },
          "execution_count": 2,
          "metadata": {},
          "output_type": "execute_result"
        }
      ],
      "source": [
        "\n",
        "# %%\n",
        "######### Exercitiul ################\n",
        "# Creați un vector cu 10 elemente întregi, toate fiind egale cu 0.\n",
        "\n",
        "np.zeros(10)\n"
      ]
    },
    {
      "cell_type": "code",
      "execution_count": 3,
      "metadata": {},
      "outputs": [
        {
          "data": {
            "text/plain": [
              "array([0, 0, 0, 0, 0, 0, 0, 0, 0, 0])"
            ]
          },
          "execution_count": 3,
          "metadata": {},
          "output_type": "execute_result"
        }
      ],
      "source": [
        "np.full(10, 0)"
      ]
    },
    {
      "cell_type": "code",
      "execution_count": 4,
      "metadata": {},
      "outputs": [
        {
          "data": {
            "text/plain": [
              "array([7, 7, 7, 7, 7, 7, 7, 7, 7, 7])"
            ]
          },
          "execution_count": 4,
          "metadata": {},
          "output_type": "execute_result"
        }
      ],
      "source": [
        "np.full(10, 7)"
      ]
    },
    {
      "cell_type": "code",
      "execution_count": 5,
      "metadata": {},
      "outputs": [
        {
          "data": {
            "text/plain": [
              "array([22, 22, 22, 22])"
            ]
          },
          "execution_count": 5,
          "metadata": {},
          "output_type": "execute_result"
        }
      ],
      "source": [
        "np.full(4, 22)"
      ]
    },
    {
      "cell_type": "code",
      "execution_count": 6,
      "metadata": {},
      "outputs": [
        {
          "data": {
            "text/plain": [
              "array([1., 1., 1., 1., 1., 1., 1., 1., 1., 1.])"
            ]
          },
          "execution_count": 6,
          "metadata": {},
          "output_type": "execute_result"
        }
      ],
      "source": [
        "######### Exercitiul ################\n",
        "# Creați un vector cu 10 elemente întregi, toate fiind egale cu 1.\n",
        "np.ones(10)\n",
        "\n"
      ]
    },
    {
      "cell_type": "code",
      "execution_count": 7,
      "metadata": {},
      "outputs": [
        {
          "data": {
            "text/plain": [
              "array([0, 1, 2, 3, 4, 5, 6, 7, 8, 9])"
            ]
          },
          "execution_count": 7,
          "metadata": {},
          "output_type": "execute_result"
        }
      ],
      "source": [
        "######### Exercitiul ################\n",
        "# Creați un vector cu elemente întregi de la 0 la 9.\n",
        "\n",
        "\n",
        "np.arange(10)"
      ]
    },
    {
      "cell_type": "code",
      "execution_count": 8,
      "metadata": {},
      "outputs": [
        {
          "data": {
            "text/plain": [
              "array([10, 11, 12, 13, 14, 15, 16, 17, 18, 19, 20, 21, 22, 23, 24, 25, 26,\n",
              "       27, 28, 29])"
            ]
          },
          "execution_count": 8,
          "metadata": {},
          "output_type": "execute_result"
        }
      ],
      "source": [
        "######### Exercitiul ################\n",
        "# Creați un vector cu elemente întregi de la 10 la 29.\n",
        "\n",
        "np.arange(10, 30)"
      ]
    },
    {
      "cell_type": "code",
      "execution_count": 10,
      "metadata": {},
      "outputs": [
        {
          "data": {
            "text/plain": [
              "array([9, 8, 7, 6, 5, 4, 3, 2, 1, 0])"
            ]
          },
          "execution_count": 10,
          "metadata": {},
          "output_type": "execute_result"
        }
      ],
      "source": [
        "######### Exercitiul ################\n",
        "# Creați un vector cu elemente întregi de la 0 la 9 în ordine inversă.\n",
        "\n",
        "np.arange(10)[::-1]\n"
      ]
    },
    {
      "cell_type": "code",
      "execution_count": 16,
      "metadata": {},
      "outputs": [
        {
          "data": {
            "text/plain": [
              "array([9, 8, 7, 6, 5, 4, 3, 2, 1, 0])"
            ]
          },
          "execution_count": 16,
          "metadata": {},
          "output_type": "execute_result"
        }
      ],
      "source": [
        "np.array(list(reversed(np.arange(10))))"
      ]
    },
    {
      "cell_type": "code",
      "execution_count": 17,
      "metadata": {},
      "outputs": [
        {
          "data": {
            "text/plain": [
              "array([9, 8, 7, 6, 5, 4, 3, 2, 1, 0])"
            ]
          },
          "execution_count": 17,
          "metadata": {},
          "output_type": "execute_result"
        }
      ],
      "source": [
        "np.arange(9, -1, -1)"
      ]
    },
    {
      "cell_type": "code",
      "execution_count": 18,
      "metadata": {},
      "outputs": [
        {
          "data": {
            "text/plain": [
              "0.5906004839505502"
            ]
          },
          "execution_count": 18,
          "metadata": {},
          "output_type": "execute_result"
        }
      ],
      "source": [
        "######### Exercitiul ################\n",
        "# Creați un vector cu 10 elemente aleatoare între 0 și 1.\n",
        "\n",
        "np.random.rand()\n"
      ]
    },
    {
      "cell_type": "code",
      "execution_count": 19,
      "metadata": {},
      "outputs": [
        {
          "data": {
            "text/plain": [
              "array([0.6823873 , 0.4168138 , 0.32633397, 0.0588028 , 0.5384641 ,\n",
              "       0.49592489, 0.65018981, 0.65873487, 0.28240336, 0.7425462 ])"
            ]
          },
          "execution_count": 19,
          "metadata": {},
          "output_type": "execute_result"
        }
      ],
      "source": [
        "np.random.rand(10)"
      ]
    },
    {
      "cell_type": "code",
      "execution_count": 21,
      "metadata": {},
      "outputs": [
        {
          "data": {
            "text/plain": [
              "0.5634328628293708"
            ]
          },
          "execution_count": 21,
          "metadata": {},
          "output_type": "execute_result"
        }
      ],
      "source": [
        "np.random.random()"
      ]
    },
    {
      "cell_type": "code",
      "execution_count": 27,
      "metadata": {},
      "outputs": [],
      "source": [
        "\n",
        "np.random.seed(42)\n"
      ]
    },
    {
      "cell_type": "code",
      "execution_count": 25,
      "metadata": {},
      "outputs": [
        {
          "data": {
            "text/plain": [
              "array([0.61185289, 0.13949386, 0.29214465, 0.36636184, 0.45606998,\n",
              "       0.78517596, 0.19967378, 0.51423444, 0.59241457, 0.04645041])"
            ]
          },
          "execution_count": 25,
          "metadata": {},
          "output_type": "execute_result"
        }
      ],
      "source": [
        "np.random.random(10)"
      ]
    },
    {
      "cell_type": "code",
      "execution_count": 28,
      "metadata": {},
      "outputs": [
        {
          "data": {
            "text/plain": [
              "array([[6, 3, 7],\n",
              "       [4, 6, 9],\n",
              "       [2, 6, 7]])"
            ]
          },
          "execution_count": 28,
          "metadata": {},
          "output_type": "execute_result"
        }
      ],
      "source": [
        "######### Exercitiul ################\n",
        "# Creați o matrice 3x3 cu elemente întregi aleatoare între 0 și 9.\n",
        "np.random.randint(0, 10, (3, 3))\n"
      ]
    },
    {
      "cell_type": "code",
      "execution_count": 30,
      "metadata": {},
      "outputs": [
        {
          "data": {
            "text/plain": [
              "array([[1., 0., 0.],\n",
              "       [0., 1., 0.],\n",
              "       [0., 0., 1.]])"
            ]
          },
          "execution_count": 30,
          "metadata": {},
          "output_type": "execute_result"
        }
      ],
      "source": [
        "######### Exercitiul ################\n",
        "# Creați o matrice identitate 5x5.\n",
        "np.eye(3)\n",
        "\n",
        "\n"
      ]
    },
    {
      "cell_type": "code",
      "execution_count": 33,
      "metadata": {},
      "outputs": [
        {
          "name": "stdout",
          "output_type": "stream",
          "text": [
            "[[8 6 1]\n",
            " [3 8 1]\n",
            " [9 8 9]]\n",
            "[[4 1 3]\n",
            " [6 7 2]\n",
            " [0 3 1]]\n",
            "[[12  7  4]\n",
            " [ 9 15  3]\n",
            " [ 9 11 10]]\n"
          ]
        }
      ],
      "source": [
        "######### Exercitiul ################\n",
        "# Adunați două matrici de dimensiuni egale (de exemplu, 3x3).\n",
        "m1 = np.random.randint(0, 10, (3, 3))\n",
        "m2 = np.random.randint(0, 10, (3, 3))\n",
        "print(m1) \n",
        "print(m2) \n",
        "print(m1 + m2)"
      ]
    },
    {
      "cell_type": "code",
      "execution_count": 36,
      "metadata": {},
      "outputs": [
        {
          "name": "stdout",
          "output_type": "stream",
          "text": [
            "m1= [[0 8 6]\n",
            " [8 7 0]]\n",
            "m2= [[7 7 2]\n",
            " [0 7 2]]\n",
            "m1 * m2= [[ 0 56 12]\n",
            " [ 0 49  0]]\n"
          ]
        }
      ],
      "source": [
        "######### Exercitiul ################\n",
        "# Înmulțiți două matrici de dimensiuni corespunzătoare (de  exemplu, 2x3 și 3x2).\n",
        "\n",
        "m1 = np.random.randint(0, 10, (2, 3))\n",
        "m2 = np.random.randint(0, 10, (2, 3))\n",
        "print(\"m1=\", m1) \n",
        "print(\"m2=\", m2) \n",
        "print(\"m1 * m2=\",m1 * m2)\n"
      ]
    },
    {
      "cell_type": "code",
      "execution_count": 37,
      "metadata": {},
      "outputs": [
        {
          "name": "stdout",
          "output_type": "stream",
          "text": [
            "m1= [[2 0 4]\n",
            " [9 6 9]]\n",
            "m2= [[8 6]\n",
            " [8 7]\n",
            " [1 0]]\n",
            "m1 * m2= [[ 20  12]\n",
            " [129  96]]\n"
          ]
        }
      ],
      "source": [
        "\n",
        "m1 = np.random.randint(0, 10, (2, 3))\n",
        "m2 = np.random.randint(0, 10, (3, 2))\n",
        "print(\"m1=\", m1) \n",
        "print(\"m2=\", m2) \n",
        "print(\"m1 * m2=\",np.dot(m1, m2))"
      ]
    },
    {
      "cell_type": "code",
      "execution_count": 39,
      "metadata": {},
      "outputs": [
        {
          "data": {
            "text/plain": [
              "array([[7, 5, 2, 0, 2]])"
            ]
          },
          "execution_count": 39,
          "metadata": {},
          "output_type": "execute_result"
        }
      ],
      "source": [
        "######### Exercitiul ################\n",
        "# Transpuneți o matrice (de exemplu, 3x4).\n",
        "\n",
        "m1 = np.random.randint(0, 10, (1, 5))\n",
        "m1\n"
      ]
    },
    {
      "cell_type": "code",
      "execution_count": 40,
      "metadata": {},
      "outputs": [
        {
          "data": {
            "text/plain": [
              "array([[7],\n",
              "       [5],\n",
              "       [2],\n",
              "       [0],\n",
              "       [2]])"
            ]
          },
          "execution_count": 40,
          "metadata": {},
          "output_type": "execute_result"
        }
      ],
      "source": [
        "m1.T"
      ]
    },
    {
      "cell_type": "code",
      "execution_count": 41,
      "metadata": {},
      "outputs": [
        {
          "name": "stdout",
          "output_type": "stream",
          "text": [
            "[[4 2 0 4 9]] 9\n"
          ]
        }
      ],
      "source": [
        "######### Exercitiul ################\n",
        "# Găsiți valoarea maximă dintr-un vector.\n",
        "arr = np.random.randint(0, 10, (1, 5))\n",
        "print(arr, arr.max())\n"
      ]
    },
    {
      "cell_type": "code",
      "execution_count": 45,
      "metadata": {},
      "outputs": [
        {
          "name": "stdout",
          "output_type": "stream",
          "text": [
            "[[2 5 1 9 8]] 3\n"
          ]
        }
      ],
      "source": [
        "######### Exercitiul ################\n",
        "# Găsiți indicele valorii maxime dintr-un vector.\n",
        "arr = np.random.randint(0, 10, (1, 5))\n",
        "print(arr, arr.argmax())\n"
      ]
    },
    {
      "cell_type": "code",
      "execution_count": 48,
      "metadata": {},
      "outputs": [
        {
          "name": "stdout",
          "output_type": "stream",
          "text": [
            "[3 3 3 3 2 1 3 0 0 0] 1.8\n"
          ]
        }
      ],
      "source": [
        "######### Exercitiul ################\n",
        "# Găsiți media aritmetică a valorilor dintr-o matrice.\n",
        "arr = np.random.randint(0, 5, 10)\n",
        "print(arr, np.mean(arr))"
      ]
    },
    {
      "cell_type": "code",
      "execution_count": 49,
      "metadata": {},
      "outputs": [
        {
          "name": "stdout",
          "output_type": "stream",
          "text": [
            "[0 2 0 3 4 0 2 2 0 4] 1.7\n"
          ]
        }
      ],
      "source": [
        "arr = np.random.randint(0, 5, 10)\n",
        "print(arr, arr.mean())"
      ]
    }
  ],
  "metadata": {
    "anaconda-cloud": {},
    "kernelspec": {
      "display_name": "Python 3",
      "language": "python",
      "name": "python3"
    },
    "language_info": {
      "codemirror_mode": {
        "name": "ipython",
        "version": 3
      },
      "file_extension": ".py",
      "mimetype": "text/x-python",
      "name": "python",
      "nbconvert_exporter": "python",
      "pygments_lexer": "ipython3",
      "version": "3.12.0"
    }
  },
  "nbformat": 4,
  "nbformat_minor": 4
}
