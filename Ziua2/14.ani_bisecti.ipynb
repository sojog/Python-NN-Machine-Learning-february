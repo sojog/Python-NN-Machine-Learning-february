{
 "cells": [
  {
   "cell_type": "code",
   "execution_count": 1,
   "metadata": {},
   "outputs": [],
   "source": [
    "import numpy as np"
   ]
  },
  {
   "cell_type": "code",
   "execution_count": null,
   "metadata": {},
   "outputs": [],
   "source": [
    "# numeVariabilaAsa -> camelCase\n",
    "# nume_variabila_asa -> snake_case"
   ]
  },
  {
   "cell_type": "code",
   "execution_count": 6,
   "metadata": {},
   "outputs": [
    {
     "data": {
      "text/plain": [
       "array([1892, 1896, 1904, 1908, 1912, 1916, 1920, 1924, 1928, 1932, 1936,\n",
       "       1940, 1944, 1948, 1952, 1956, 1960, 1964, 1968, 1972, 1976, 1980,\n",
       "       1984, 1988, 1992, 1996, 2000, 2004, 2008, 2012, 2016, 2020, 2024,\n",
       "       2028, 2032, 2036, 2040, 2044, 2048, 2052, 2056, 2060, 2064, 2068,\n",
       "       2072, 2076, 2080, 2084, 2088, 2092, 2096, 2104, 2108])"
      ]
     },
     "execution_count": 6,
     "metadata": {},
     "output_type": "execute_result"
    }
   ],
   "source": [
    "start_date = 1890\n",
    "stop_date = 2109\n",
    "\n",
    "arr = np.arange(start_date, stop_date)\n",
    "divizibile_cu_400 = arr % 400 == 0\n",
    "nedivizibile_cu_100 = arr % 100 != 0\n",
    "divizibile_cu_4 = arr % 4 == 0\n",
    "\n",
    "arr[ divizibile_cu_400 | (nedivizibile_cu_100 & divizibile_cu_4) ]\n",
    "\n",
    "\n"
   ]
  }
 ],
 "metadata": {
  "kernelspec": {
   "display_name": "Python 3",
   "language": "python",
   "name": "python3"
  },
  "language_info": {
   "codemirror_mode": {
    "name": "ipython",
    "version": 3
   },
   "file_extension": ".py",
   "mimetype": "text/x-python",
   "name": "python",
   "nbconvert_exporter": "python",
   "pygments_lexer": "ipython3",
   "version": "3.12.0"
  }
 },
 "nbformat": 4,
 "nbformat_minor": 2
}
