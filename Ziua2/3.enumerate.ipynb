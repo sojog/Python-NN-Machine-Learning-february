{
 "cells": [
  {
   "cell_type": "code",
   "execution_count": 2,
   "metadata": {},
   "outputs": [
    {
     "name": "stdout",
     "output_type": "stream",
     "text": [
      "Apples\n",
      "Oranges\n",
      "Bananas\n"
     ]
    }
   ],
   "source": [
    "fruits = [\"Apples\", \"Oranges\", \"Bananas\"]\n",
    "\n",
    "for i in fruits:\n",
    "    print(i)"
   ]
  },
  {
   "cell_type": "code",
   "execution_count": 4,
   "metadata": {},
   "outputs": [
    {
     "name": "stdout",
     "output_type": "stream",
     "text": [
      "i= 0 item= Apples\n",
      "i= 1 item= Oranges\n",
      "i= 2 item= Bananas\n"
     ]
    }
   ],
   "source": [
    "fruits = [\"Apples\", \"Oranges\", \"Bananas\"]\n",
    "\n",
    "for i in range(len(fruits)):\n",
    "    print(\"i=\", i, \"item=\", fruits[i])"
   ]
  },
  {
   "cell_type": "code",
   "execution_count": 5,
   "metadata": {},
   "outputs": [
    {
     "name": "stdout",
     "output_type": "stream",
     "text": [
      "(0, 'Apples')\n",
      "(1, 'Oranges')\n",
      "(2, 'Bananas')\n"
     ]
    }
   ],
   "source": [
    "fruits = [\"Apples\", \"Oranges\", \"Bananas\"]\n",
    "\n",
    "for i in enumerate(fruits):\n",
    "    print(i)"
   ]
  },
  {
   "cell_type": "code",
   "execution_count": 6,
   "metadata": {},
   "outputs": [
    {
     "name": "stdout",
     "output_type": "stream",
     "text": [
      "index= 0 element= Apples\n",
      "index= 1 element= Oranges\n",
      "index= 2 element= Bananas\n"
     ]
    }
   ],
   "source": [
    "fruits = [\"Apples\", \"Oranges\", \"Bananas\"]\n",
    "\n",
    "for index, element in enumerate(fruits):\n",
    "    print(\"index=\", index, \"element=\", element)"
   ]
  },
  {
   "cell_type": "code",
   "execution_count": 8,
   "metadata": {},
   "outputs": [
    {
     "name": "stdout",
     "output_type": "stream",
     "text": [
      "[(0, 'Apples'), (1, 'Oranges'), (2, 'Bananas')]\n"
     ]
    }
   ],
   "source": [
    "fruits = [\"Apples\", \"Oranges\", \"Bananas\"]\n",
    "print(list(enumerate(fruits)))"
   ]
  }
 ],
 "metadata": {
  "kernelspec": {
   "display_name": "Python 3",
   "language": "python",
   "name": "python3"
  },
  "language_info": {
   "codemirror_mode": {
    "name": "ipython",
    "version": 3
   },
   "file_extension": ".py",
   "mimetype": "text/x-python",
   "name": "python",
   "nbconvert_exporter": "python",
   "pygments_lexer": "ipython3",
   "version": "3.12.0"
  }
 },
 "nbformat": 4,
 "nbformat_minor": 2
}
