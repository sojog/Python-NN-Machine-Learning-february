{
  "cells": [
    {
      "cell_type": "code",
      "metadata": {},
      "source": [
        "\n",
        "# %%\n",
        "######### Exercitiul ################\n",
        "# Crea\u021bi un vector cu 10 elemente \u00eentregi, toate fiind egale cu 0.\n",
        "\n",
        "\n"
      ],
      "outputs": [],
      "execution_count": null
    },
    {
      "cell_type": "code",
      "metadata": {},
      "source": [
        "######### Exercitiul ################\n",
        "# Crea\u021bi un vector cu 10 elemente \u00eentregi, toate fiind egale cu 1.\n",
        "\n",
        "\n"
      ],
      "outputs": [],
      "execution_count": null
    },
    {
      "cell_type": "code",
      "metadata": {},
      "source": [
        "######### Exercitiul ################\n",
        "# Crea\u021bi un vector cu elemente \u00eentregi de la 0 la 9.\n",
        "\n",
        "\n"
      ],
      "outputs": [],
      "execution_count": null
    },
    {
      "cell_type": "code",
      "metadata": {},
      "source": [
        "######### Exercitiul ################\n",
        "# Crea\u021bi un vector cu elemente \u00eentregi de la 10 la 29.\n",
        "\n"
      ],
      "outputs": [],
      "execution_count": null
    },
    {
      "cell_type": "code",
      "metadata": {},
      "source": [
        "######### Exercitiul ################\n",
        "# Crea\u021bi un vector cu elemente \u00eentregi de la 0 la 9 \u00een ordine invers\u0103.\n",
        "\n",
        "\n"
      ],
      "outputs": [],
      "execution_count": null
    },
    {
      "cell_type": "code",
      "metadata": {},
      "source": [
        "######### Exercitiul ################\n",
        "# Crea\u021bi un vector cu 10 elemente aleatoare \u00eentre 0 \u0219i 1.\n",
        "\n"
      ],
      "outputs": [],
      "execution_count": null
    },
    {
      "cell_type": "code",
      "metadata": {},
      "source": [
        "######### Exercitiul ################\n",
        "# Crea\u021bi o matrice 3x3 cu elemente \u00eentregi aleatoare \u00eentre 0 \u0219i 9.\n",
        "\n"
      ],
      "outputs": [],
      "execution_count": null
    },
    {
      "cell_type": "code",
      "metadata": {},
      "source": [
        "######### Exercitiul ################\n",
        "# Crea\u021bi o matrice identitate 5x5.\n",
        "\n",
        "\n"
      ],
      "outputs": [],
      "execution_count": null
    },
    {
      "cell_type": "code",
      "metadata": {},
      "source": [
        "######### Exercitiul ################\n",
        "# Aduna\u021bi dou\u0103 matrici de dimensiuni egale (de exemplu, 3x3).\n",
        "\n"
      ],
      "outputs": [],
      "execution_count": null
    },
    {
      "cell_type": "code",
      "metadata": {},
      "source": [
        "######### Exercitiul ################\n",
        "# \u00cenmul\u021bi\u021bi dou\u0103 matrici de dimensiuni corespunz\u0103toare (de  exemplu, 2x3 \u0219i 3x2).\n",
        "\n",
        "\n"
      ],
      "outputs": [],
      "execution_count": null
    },
    {
      "cell_type": "code",
      "metadata": {},
      "source": [
        "######### Exercitiul ################\n",
        "# Transpune\u021bi o matrice (de exemplu, 3x4).\n",
        "\n"
      ],
      "outputs": [],
      "execution_count": null
    },
    {
      "cell_type": "code",
      "metadata": {},
      "source": [
        "######### Exercitiul ################\n",
        "# G\u0103si\u021bi valoarea maxim\u0103 dintr-un vector.\n",
        "\n"
      ],
      "outputs": [],
      "execution_count": null
    },
    {
      "cell_type": "code",
      "metadata": {},
      "source": [
        "######### Exercitiul ################\n",
        "# G\u0103si\u021bi indicele valorii maxime dintr-un vector.\n",
        "\n"
      ],
      "outputs": [],
      "execution_count": null
    },
    {
      "cell_type": "code",
      "metadata": {},
      "source": [
        "######### Exercitiul ################\n",
        "# G\u0103si\u021bi media aritmetic\u0103 a valorilor dintr-o matrice.\n"
      ],
      "outputs": [],
      "execution_count": null
    },
    {
      "cell_type": "code",
      "metadata": {},
      "source": [],
      "outputs": [],
      "execution_count": null
    }
  ],
  "metadata": {
    "anaconda-cloud": {},
    "kernelspec": {
      "display_name": "Python 3",
      "language": "python",
      "name": "python3"
    },
    "language_info": {
      "codemirror_mode": {
        "name": "ipython",
        "version": 3
      },
      "file_extension": ".py",
      "mimetype": "text/x-python",
      "name": "python",
      "nbconvert_exporter": "python",
      "pygments_lexer": "ipython3",
      "version": "3.6.1"
    }
  },
  "nbformat": 4,
  "nbformat_minor": 4
}