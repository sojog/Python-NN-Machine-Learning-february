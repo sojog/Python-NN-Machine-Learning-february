{
 "cells": [
  {
   "cell_type": "code",
   "execution_count": 2,
   "metadata": {},
   "outputs": [
    {
     "name": "stdout",
     "output_type": "stream",
     "text": [
      "Bananas\n"
     ]
    }
   ],
   "source": [
    "fruits = (\"Apples\", \"Oranges\", \"Bananas\")\n",
    "# unpacking\n",
    "fruit1, fruit2, fruit3 = fruits\n",
    "print(fruit3)"
   ]
  },
  {
   "cell_type": "code",
   "execution_count": 3,
   "metadata": {},
   "outputs": [
    {
     "name": "stdout",
     "output_type": "stream",
     "text": [
      "('Apples', 'Oranges', 'Bananas')\n"
     ]
    }
   ],
   "source": [
    "fruits = (\"Apples\", \"Oranges\", \"Bananas\")\n",
    "fruit1 = fruit2 = fruit3 = fruits\n",
    "print(fruit3)"
   ]
  },
  {
   "cell_type": "code",
   "execution_count": 5,
   "metadata": {},
   "outputs": [
    {
     "name": "stdout",
     "output_type": "stream",
     "text": [
      "Bananas\n",
      "['Oranges']\n"
     ]
    }
   ],
   "source": [
    "fruits = (\"Apples\", \"Oranges\", \"Bananas\")\n",
    "# unpacking\n",
    "fruit1, *fruit2, fruit3 = fruits\n",
    "print(fruit3)\n",
    "print(fruit2)"
   ]
  },
  {
   "cell_type": "code",
   "execution_count": 6,
   "metadata": {},
   "outputs": [
    {
     "name": "stdout",
     "output_type": "stream",
     "text": [
      "Bananas\n",
      "['Apples', 'Oranges']\n"
     ]
    }
   ],
   "source": [
    "fruits = (\"Apples\", \"Oranges\", \"Bananas\")\n",
    "# unpacking\n",
    "*fruit2, fruit3 = fruits\n",
    "print(fruit3)\n",
    "print(fruit2)"
   ]
  },
  {
   "cell_type": "code",
   "execution_count": 7,
   "metadata": {},
   "outputs": [
    {
     "name": "stdout",
     "output_type": "stream",
     "text": [
      "['Apples', 'Bananas', 'Oranges']\n"
     ]
    }
   ],
   "source": [
    "fruits = (\"Apples\", \"Oranges\", \"Bananas\")\n",
    "print(sorted(fruits))\n"
   ]
  },
  {
   "cell_type": "code",
   "execution_count": 9,
   "metadata": {},
   "outputs": [
    {
     "name": "stdout",
     "output_type": "stream",
     "text": [
      "sorted(fruits): ['Apples', 'Bananas', 'Oranges']\n",
      "fruits: ('Apples', 'Oranges', 'Bananas')\n"
     ]
    }
   ],
   "source": [
    "fruits = (\"Apples\", \"Oranges\", \"Bananas\")\n",
    "print(\"sorted(fruits):\", sorted(fruits))\n",
    "print(\"fruits:\",fruits)"
   ]
  },
  {
   "cell_type": "code",
   "execution_count": 10,
   "metadata": {},
   "outputs": [
    {
     "name": "stdout",
     "output_type": "stream",
     "text": [
      "sorted(fruits): ['Apples', 'Bananas', 'Oranges']\n",
      "fruits: ['Apples', 'Oranges', 'Bananas']\n"
     ]
    }
   ],
   "source": [
    "fruits = [\"Apples\", \"Oranges\", \"Bananas\"]\n",
    "print(\"sorted(fruits):\", sorted(fruits))\n",
    "print(\"fruits:\",fruits)"
   ]
  },
  {
   "cell_type": "code",
   "execution_count": 14,
   "metadata": {},
   "outputs": [
    {
     "name": "stdout",
     "output_type": "stream",
     "text": [
      "sorted(fruits): ['Apples', 'Bananas', 'Oranges']\n",
      "fruits - before .sort() : ['Apples', 'Oranges', 'Bananas']\n",
      "fruits - after .sort(): ['Apples', 'Bananas', 'Oranges']\n"
     ]
    }
   ],
   "source": [
    "fruits = [\"Apples\", \"Oranges\", \"Bananas\"]\n",
    "print(\"sorted(fruits):\", sorted(fruits))\n",
    "\n",
    "print(\"fruits - before .sort() :\",fruits)\n",
    "\n",
    "fruits.sort()\n",
    "print(\"fruits - after .sort():\",fruits)"
   ]
  },
  {
   "cell_type": "code",
   "execution_count": 11,
   "metadata": {},
   "outputs": [
    {
     "data": {
      "text/plain": [
       "['e', 'h', 'l', 'l', 'o']"
      ]
     },
     "execution_count": 11,
     "metadata": {},
     "output_type": "execute_result"
    }
   ],
   "source": [
    "sorted(\"hello\")"
   ]
  },
  {
   "cell_type": "code",
   "execution_count": 16,
   "metadata": {},
   "outputs": [
    {
     "name": "stdout",
     "output_type": "stream",
     "text": [
      "I'm taking the python exam\n"
     ]
    }
   ],
   "source": [
    "print(\"I'm taking the python exam\")"
   ]
  },
  {
   "cell_type": "code",
   "execution_count": 17,
   "metadata": {},
   "outputs": [
    {
     "name": "stdout",
     "output_type": "stream",
     "text": [
      "I'm taking the python exam\n"
     ]
    }
   ],
   "source": [
    "print('I\\'m taking the python exam')"
   ]
  },
  {
   "cell_type": "code",
   "execution_count": 18,
   "metadata": {},
   "outputs": [
    {
     "name": "stdout",
     "output_type": "stream",
     "text": [
      "titanic|was|a|huge|ship*but sadly it sank\n"
     ]
    }
   ],
   "source": [
    "print(\"titanic\", \"was\", \"a\", \"huge\", \"ship\", sep=\"|\",end=\"*\"); print(\"but\", \"sadly\",\"it\",\"sank\")"
   ]
  },
  {
   "cell_type": "code",
   "execution_count": 19,
   "metadata": {},
   "outputs": [
    {
     "name": "stdout",
     "output_type": "stream",
     "text": [
      "titanic|was|a|huge|ship*but sadly it sank\n"
     ]
    }
   ],
   "source": [
    "print(\"titanic\", \"was\", \"a\", \"huge\", \"ship\", sep=\"|\",end=\"*\")\n",
    "print(\"but\", \"sadly\",\"it\",\"sank\")"
   ]
  },
  {
   "cell_type": "code",
   "execution_count": 20,
   "metadata": {},
   "outputs": [
    {
     "name": "stdout",
     "output_type": "stream",
     "text": [
      "alb verde negru\n"
     ]
    }
   ],
   "source": [
    "print(\"alb\", \"verde\", \"negru\")"
   ]
  },
  {
   "cell_type": "code",
   "execution_count": 21,
   "metadata": {},
   "outputs": [
    {
     "name": "stdout",
     "output_type": "stream",
     "text": [
      "alb_verde_negru\n"
     ]
    }
   ],
   "source": [
    "print(\"alb\", \"verde\", \"negru\", sep=\"_\")"
   ]
  },
  {
   "cell_type": "code",
   "execution_count": 23,
   "metadata": {},
   "outputs": [
    {
     "name": "stdout",
     "output_type": "stream",
     "text": [
      "alb_verde_negru****alb_verde_negru\n"
     ]
    }
   ],
   "source": [
    "print(\"alb\", \"verde\", \"negru\", sep=\"_\", end=\"****\")\n",
    "print(\"alb\", \"verde\", \"negru\", sep=\"_\")"
   ]
  },
  {
   "cell_type": "code",
   "execution_count": 24,
   "metadata": {},
   "outputs": [
    {
     "name": "stdout",
     "output_type": "stream",
     "text": [
      "40\n"
     ]
    }
   ],
   "source": [
    "def fun(x,y,z):\n",
    "    return x + y**2 + z//2\n",
    "print(fun(z=2,x=3,y=6))"
   ]
  },
  {
   "cell_type": "code",
   "execution_count": 25,
   "metadata": {},
   "outputs": [
    {
     "name": "stdout",
     "output_type": "stream",
     "text": [
      "14\n"
     ]
    }
   ],
   "source": [
    "def fun(x,y,z):\n",
    "    return x + y**2 + z//2\n",
    "print(fun(2,3,6))"
   ]
  },
  {
   "cell_type": "code",
   "execution_count": 27,
   "metadata": {},
   "outputs": [
    {
     "name": "stdout",
     "output_type": "stream",
     "text": [
      "14\n"
     ]
    }
   ],
   "source": [
    "def fun(x,y,z):\n",
    "    return x + y**2 + z//2\n",
    "print(fun(x=2,y=3,z=6))"
   ]
  },
  {
   "cell_type": "code",
   "execution_count": 28,
   "metadata": {},
   "outputs": [
    {
     "name": "stdout",
     "output_type": "stream",
     "text": [
      "\n"
     ]
    }
   ],
   "source": [
    "print()"
   ]
  },
  {
   "cell_type": "code",
   "execution_count": 29,
   "metadata": {},
   "outputs": [
    {
     "name": "stdout",
     "output_type": "stream",
     "text": [
      "1\n"
     ]
    }
   ],
   "source": [
    "print(1)"
   ]
  },
  {
   "cell_type": "code",
   "execution_count": 30,
   "metadata": {},
   "outputs": [
    {
     "name": "stdout",
     "output_type": "stream",
     "text": [
      "1 2 3\n"
     ]
    }
   ],
   "source": [
    "print(1, 2, 3)"
   ]
  },
  {
   "cell_type": "code",
   "execution_count": 31,
   "metadata": {},
   "outputs": [
    {
     "name": "stdout",
     "output_type": "stream",
     "text": [
      "25\n"
     ]
    }
   ],
   "source": [
    "def fun(x,y,*z):\n",
    "    return (x + sum(z))**y\n",
    "print(fun(1,2,1,1,2))"
   ]
  },
  {
   "cell_type": "code",
   "execution_count": 34,
   "metadata": {},
   "outputs": [
    {
     "name": "stdout",
     "output_type": "stream",
     "text": [
      "x= 101\n",
      "y= 202\n",
      "z= (1, 1, 2) <class 'tuple'>\n",
      "21210\n"
     ]
    }
   ],
   "source": [
    "def fun(x,y,*z):\n",
    "    print(\"x=\", x)\n",
    "    print(\"y=\", y)\n",
    "    print(\"z=\", z, type(z))\n",
    "    return (x + sum(z))*y\n",
    "print(fun(101,202,1,1,2))"
   ]
  },
  {
   "cell_type": "code",
   "execution_count": 37,
   "metadata": {},
   "outputs": [
    {
     "name": "stdout",
     "output_type": "stream",
     "text": [
      "x= 101\n",
      "y= 202\n",
      "z= (1, 1, 2) <class 'tuple'>\n",
      "21210\n"
     ]
    }
   ],
   "source": [
    "def fun(x,y,*z, w):\n",
    "    print(\"x=\", x)\n",
    "    print(\"y=\", y)\n",
    "    print(\"z=\", z, type(z))\n",
    "    return (x + sum(z))*y\n",
    "print(fun(101,202,1,1,2, w=3))"
   ]
  },
  {
   "cell_type": "code",
   "execution_count": 46,
   "metadata": {},
   "outputs": [
    {
     "name": "stdout",
     "output_type": "stream",
     "text": [
      "b= (11, 29, 51, -31, 20) type(b)= <class 'tuple'>\n",
      "a= {} type(a)= <class 'dict'>\n",
      "None\n"
     ]
    }
   ],
   "source": [
    "def fun(*b, **a):\n",
    "    print(\"b=\", b, \"type(b)=\", type(b))\n",
    "    print(\"a=\", a, \"type(a)=\",type(a))\n",
    "    # return (min(a)+min(a))/2\n",
    "print(fun(11,29,51,-31,20))\n",
    "# print(fun())"
   ]
  },
  {
   "cell_type": "code",
   "execution_count": 53,
   "metadata": {},
   "outputs": [
    {
     "name": "stdout",
     "output_type": "stream",
     "text": [
      "args= (11, 29, 51, -31, 20) type(args)= <class 'tuple'>\n",
      "kargs= {'culoare': 'verde', 'miros': 'placut', 'temperatura': 20} type(kargs)= <class 'dict'>\n",
      "args= (312,) type(args)= <class 'tuple'>\n",
      "kargs= {'x': 2} type(kargs)= <class 'dict'>\n"
     ]
    }
   ],
   "source": [
    "def fun(*args, **kargs):\n",
    "    print(\"args=\", args, \"type(args)=\", type(args))\n",
    "    print(\"kargs=\", kargs, \"type(kargs)=\",type(kargs))\n",
    "\n",
    "fun(11,29,51,-31,20, culoare=\"verde\", miros=\"placut\", temperatura=20)\n",
    "fun(312, x =2)"
   ]
  },
  {
   "cell_type": "code",
   "execution_count": 56,
   "metadata": {},
   "outputs": [
    {
     "ename": "SyntaxError",
     "evalue": "arguments cannot follow var-keyword argument (813690003.py, line 1)",
     "output_type": "error",
     "traceback": [
      "\u001b[0;36m  Cell \u001b[0;32mIn[56], line 1\u001b[0;36m\u001b[0m\n\u001b[0;31m    def fun(**a, *b):\u001b[0m\n\u001b[0m                 ^\u001b[0m\n\u001b[0;31mSyntaxError\u001b[0m\u001b[0;31m:\u001b[0m arguments cannot follow var-keyword argument\n"
     ]
    }
   ],
   "source": [
    "def fun(**a, *b):\n",
    "    return sum(b)/len(b)\n",
    "print(fun(11,29))"
   ]
  },
  {
   "cell_type": "code",
   "execution_count": 57,
   "metadata": {},
   "outputs": [
    {
     "name": "stdout",
     "output_type": "stream",
     "text": [
      "20.0\n"
     ]
    }
   ],
   "source": [
    "def fun(*b, **a):\n",
    "    return sum(b)/len(b)\n",
    "print(fun(11,29))"
   ]
  },
  {
   "cell_type": "code",
   "execution_count": 58,
   "metadata": {},
   "outputs": [
    {
     "ename": "ZeroDivisionError",
     "evalue": "division by zero",
     "output_type": "error",
     "traceback": [
      "\u001b[0;31m---------------------------------------------------------------------------\u001b[0m",
      "\u001b[0;31mZeroDivisionError\u001b[0m                         Traceback (most recent call last)",
      "Cell \u001b[0;32mIn[58], line 3\u001b[0m\n\u001b[1;32m      1\u001b[0m \u001b[38;5;28;01mdef\u001b[39;00m \u001b[38;5;21mfun\u001b[39m(\u001b[38;5;241m*\u001b[39mb, \u001b[38;5;241m*\u001b[39m\u001b[38;5;241m*\u001b[39ma):\n\u001b[1;32m      2\u001b[0m     \u001b[38;5;28;01mreturn\u001b[39;00m \u001b[38;5;28msum\u001b[39m(b)\u001b[38;5;241m/\u001b[39m\u001b[38;5;28mlen\u001b[39m(b)\n\u001b[0;32m----> 3\u001b[0m \u001b[38;5;28mprint\u001b[39m(\u001b[43mfun\u001b[49m\u001b[43m(\u001b[49m\u001b[43ma\u001b[49m\u001b[38;5;241;43m=\u001b[39;49m\u001b[38;5;241;43m11\u001b[39;49m\u001b[43m,\u001b[49m\u001b[43mb\u001b[49m\u001b[38;5;241;43m=\u001b[39;49m\u001b[38;5;241;43m29\u001b[39;49m\u001b[43m)\u001b[49m)\n",
      "Cell \u001b[0;32mIn[58], line 2\u001b[0m, in \u001b[0;36mfun\u001b[0;34m(*b, **a)\u001b[0m\n\u001b[1;32m      1\u001b[0m \u001b[38;5;28;01mdef\u001b[39;00m \u001b[38;5;21mfun\u001b[39m(\u001b[38;5;241m*\u001b[39mb, \u001b[38;5;241m*\u001b[39m\u001b[38;5;241m*\u001b[39ma):\n\u001b[0;32m----> 2\u001b[0m     \u001b[38;5;28;01mreturn\u001b[39;00m \u001b[38;5;28;43msum\u001b[39;49m\u001b[43m(\u001b[49m\u001b[43mb\u001b[49m\u001b[43m)\u001b[49m\u001b[38;5;241;43m/\u001b[39;49m\u001b[38;5;28;43mlen\u001b[39;49m\u001b[43m(\u001b[49m\u001b[43mb\u001b[49m\u001b[43m)\u001b[49m\n",
      "\u001b[0;31mZeroDivisionError\u001b[0m: division by zero"
     ]
    }
   ],
   "source": [
    "def fun(*b, **a):\n",
    "    return sum(b)/len(b)\n",
    "print(fun(a=11,b=29))"
   ]
  },
  {
   "cell_type": "code",
   "execution_count": 59,
   "metadata": {},
   "outputs": [
    {
     "name": "stdout",
     "output_type": "stream",
     "text": [
      "['beach is fun!', 'car is fun!']\n"
     ]
    }
   ],
   "source": [
    "letters = [\"beach\", \"car\"]\n",
    "funified = list(map(lambda word: f\"{word} is fun!\", letters))\n",
    "print(funified)"
   ]
  }
 ],
 "metadata": {
  "kernelspec": {
   "display_name": "Python 3",
   "language": "python",
   "name": "python3"
  },
  "language_info": {
   "codemirror_mode": {
    "name": "ipython",
    "version": 3
   },
   "file_extension": ".py",
   "mimetype": "text/x-python",
   "name": "python",
   "nbconvert_exporter": "python",
   "pygments_lexer": "ipython3",
   "version": "3.12.0"
  }
 },
 "nbformat": 4,
 "nbformat_minor": 2
}
